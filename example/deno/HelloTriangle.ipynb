{
 "cells": [
  {
   "cell_type": "code",
   "execution_count": null,
   "metadata": {
    "vscode": {
     "languageId": "typescript"
    }
   },
   "outputs": [
    {
     "data": {
      "image/png": "[encoded data removed]"
     },
     "metadata": {},
     "output_type": "display_data"
    }
   ],
   "source": [
    "import { initDeno } from \"../../mod.ts\"\n",
    "\n",
    "const g = await initDeno({\n",
    "    vertShader: `\n",
    "        @vertex\n",
    "        fn vs_main(@builtin(vertex_index) in_vertex_index: u32) -> @builtin(position) vec4<f32> {\n",
    "            let x = f32(i32(in_vertex_index) - 1);\n",
    "            let y = f32(i32(in_vertex_index & 1u) * 2 - 1);\n",
    "            return vec4<f32>(x, y, 0.0, 1.0);\n",
    "        }\n",
    "    `,\n",
    "    fragShader: `\n",
    "        @fragment\n",
    "        fn fs_main() -> @location(0) vec4<f32> {\n",
    "            return vec4<f32>(1.0, 0.0, 0.0, 1.0);\n",
    "        }\n",
    "    `,\n",
    "    width: 200,\n",
    "    height: 200,\n",
    "})\n",
    "\n",
    "g.draw(3)\n",
    "await g.getImage()"
   ]
  }
 ],
 "metadata": {
  "language_info": {
   "name": "python"
  }
 },
 "nbformat": 4,
 "nbformat_minor": 2
}
