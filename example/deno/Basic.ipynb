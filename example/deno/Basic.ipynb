{
 "cells": [
  {
   "cell_type": "code",
   "execution_count": null,
   "metadata": {
    "vscode": {
     "languageId": "typescript"
    }
   },
   "outputs": [],
   "source": [
    "const vertShader = `\n",
    "struct Output {\n",
    "    @builtin(position) pos: vec4f,\n",
    "    @location(0) uv: vec2f,\n",
    "}\n",
    "\n",
    "@vertex\n",
    "fn main(\n",
    "    @builtin(vertex_index) vertexIndex: u32,\n",
    ") -> Output {\n",
    "    var pos = array<vec2f, 4>(\n",
    "        vec2(1, 1), // top-right\n",
    "        vec2(-1, 1), // top-left\n",
    "        vec2(1, -1), // bottom-right\n",
    "        vec2(-1, -1) // bottom-left\n",
    "    );\n",
    "    var uv = array<vec2f, 4>(\n",
    "        vec2(1., 1.), // top-right\n",
    "        vec2(0., 1.), // top-left\n",
    "        vec2(1., 0.), // bottom-right\n",
    "        vec2(0., 0.) // bottom-left\n",
    "    );\n",
    "    var out: Output;\n",
    "    out.pos = vec4f(pos[vertexIndex], 0.0, 1.0);\n",
    "    out.uv = uv[vertexIndex];\n",
    "    return out;\n",
    "}\n",
    "`"
   ]
  },
  {
   "cell_type": "code",
   "execution_count": null,
   "metadata": {
    "vscode": {
     "languageId": "typescript"
    }
   },
   "outputs": [],
   "source": [
    "const fragShader = `\n",
    "@fragment\n",
    "fn main(\n",
    "    @location(0) uv: vec2f,\n",
    ") -> @location(0) vec4f {\n",
    "    let red = floor(uv.x * f32(span.x)) / f32(span.x);\n",
    "    let green = floor(uv.y * f32(span.y)) / f32(span.y);\n",
    "    return vec4(red, green, blue, 1.0);\n",
    "}\n",
    "`"
   ]
  },
  {
   "cell_type": "code",
   "execution_count": null,
   "metadata": {
    "vscode": {
     "languageId": "typescript"
    }
   },
   "outputs": [],
   "source": [
    "import { initDeno, d } from \"../../mod.ts\"\n",
    "\n",
    "const g = await initDeno({\n",
    "    vertShader,\n",
    "    fragShader,\n",
    "    layout: {\n",
    "        span: { uniform: d.struct({\n",
    "            x: d.u32,\n",
    "            y: d.u32,\n",
    "        }) },\n",
    "        blue: { uniform: d.f32 },\n",
    "    },\n",
    "    width: 500,\n",
    "    height: 300,\n",
    "})"
   ]
  },
  {
   "cell_type": "code",
   "execution_count": null,
   "metadata": {
    "vscode": {
     "languageId": "typescript"
    }
   },
   "outputs": [
    {
     "data": {
      "image/png": "[encoded data removed]"
     },
     "metadata": {},
     "output_type": "display_data"
    }
   ],
   "source": [
    "g.buffers.span.write({\n",
    "    x: 10,\n",
    "    y: 20,\n",
    "})\n",
    "g.buffers.blue.write(0.5)\n",
    "g.draw(4)\n",
    "\n",
    "await g.getImage()"
   ]
  }
 ],
 "metadata": {
  "language_info": {
   "name": "python"
  }
 },
 "nbformat": 4,
 "nbformat_minor": 2
}
