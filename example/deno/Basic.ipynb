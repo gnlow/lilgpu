{
 "cells": [
  {
   "cell_type": "code",
   "execution_count": 5,
   "metadata": {},
   "outputs": [],
   "source": [
    "const vertShader = `\n",
    "struct Output {\n",
    "    @builtin(position) pos: vec4f,\n",
    "    @location(0) uv: vec2f,\n",
    "}\n",
    "\n",
    "@vertex\n",
    "fn main(\n",
    "    @builtin(vertex_index) vertexIndex: u32,\n",
    ") -> Output {\n",
    "    var pos = array<vec2f, 4>(\n",
    "        vec2(1, 1), // top-right\n",
    "        vec2(-1, 1), // top-left\n",
    "        vec2(1, -1), // bottom-right\n",
    "        vec2(-1, -1) // bottom-left\n",
    "    );\n",
    "    var uv = array<vec2f, 4>(\n",
    "        vec2(1., 1.), // top-right\n",
    "        vec2(0., 1.), // top-left\n",
    "        vec2(1., 0.), // bottom-right\n",
    "        vec2(0., 0.) // bottom-left\n",
    "    );\n",
    "    var out: Output;\n",
    "    out.pos = vec4f(pos[vertexIndex], 0.0, 1.0);\n",
    "    out.uv = uv[vertexIndex];\n",
    "    return out;\n",
    "}\n",
    "`"
   ]
  },
  {
   "cell_type": "code",
   "execution_count": 6,
   "metadata": {},
   "outputs": [],
   "source": [
    "const fragShader = `\n",
    "@fragment\n",
    "fn main(\n",
    "    @location(0) uv: vec2f,\n",
    ") -> @location(0) vec4f {\n",
    "    let red = floor(uv.x * f32(span.x)) / f32(span.x);\n",
    "    let green = floor(uv.y * f32(span.y)) / f32(span.y);\n",
    "    return vec4(red, green, blue, 1.0);\n",
    "}\n",
    "`"
   ]
  },
  {
   "cell_type": "code",
   "execution_count": 7,
   "metadata": {},
   "outputs": [
    {
     "data": {
      "text/plain": [
       "\u001b[36m[Function (anonymous)]\u001b[39m"
      ]
     },
     "execution_count": 7,
     "metadata": {},
     "output_type": "execute_result"
    }
   ],
   "source": [
    "import { d, Lil, uniform } from \"../../deno.ts\"\n",
    "\n",
    "class Basic extends Lil {\n",
    "    vertShader = vertShader\n",
    "    fragShader = fragShader\n",
    "\n",
    "    @uniform(d.struct({\n",
    "        x: d.u32,\n",
    "        y: d.u32,\n",
    "    }))\n",
    "    accessor span = { x: 10, y: 20 }\n",
    "\n",
    "    @uniform(d.f32)\n",
    "    accessor blue = 0.5\n",
    "}\n",
    "\n",
    "const basic = new Basic()\n",
    "const g = await basic.init(500, 300)"
   ]
  },
  {
   "cell_type": "code",
   "execution_count": 8,
   "metadata": {},
   "outputs": [
    {
     "data": {
      "image/png": "[encoded data removed]"
     },
     "execution_count": 8,
     "metadata": {},
     "output_type": "execute_result"
    }
   ],
   "source": [
    "g.draw(4)\n",
    "\n",
    "await g.getImage()"
   ]
  }
 ],
 "metadata": {
  "kernelspec": {
   "display_name": "Deno",
   "language": "typescript",
   "name": "deno"
  },
  "language_info": {
   "codemirror_mode": "typescript",
   "file_extension": ".ts",
   "mimetype": "text/x.typescript",
   "name": "typescript",
   "nbconvert_exporter": "script",
   "pygments_lexer": "typescript",
   "version": "5.6.2"
  }
 },
 "nbformat": 4,
 "nbformat_minor": 2
}
